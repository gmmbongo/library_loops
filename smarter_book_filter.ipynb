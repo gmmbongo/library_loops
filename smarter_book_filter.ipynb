{
 "cells": [
  {
   "cell_type": "markdown",
   "id": "0182b639",
   "metadata": {},
   "source": [
    "# Smarter Book Filter\n",
    "Let’s build on your previous challenge and make your book filter more flexible and user-friendly.\n",
    "\n",
    "In this version, the user can:\n",
    "\n",
    "- input a starting letter\n",
    "\n",
    "- only show books that are \"Available\"\n",
    "\n",
    "- see how many matching books were found in total"
   ]
  },
  {
   "cell_type": "code",
   "execution_count": 14,
   "id": "4c9d94ce",
   "metadata": {},
   "outputs": [
    {
     "name": "stdout",
     "output_type": "stream",
     "text": [
      "\n",
      "Books starting with T, M that are Available:\n",
      "The Hobbit - Available\n",
      "Moby Dick - Available\n",
      "Things Fall Apart - Available\n",
      "The Great Gatsby - Available\n",
      "The Road - Available\n"
     ]
    }
   ],
   "source": [
    "# Define the dictionary with books and their availability\n",
    "library = {\n",
    "    \"The Hobbit\": \"Available\",\n",
    "    \"Slaughterhouse-Five\": \"Available\",\n",
    "    \"Moby Dick\": \"Available\",\n",
    "    \"The Catcher in the Rye\": \"Checked Out\",\n",
    "    \"Siddhartha\": \"Checked Out\",\n",
    "    \"Meditations\": \"Checked Out\",\n",
    "    \"Things Fall Apart\": \"Available\",\n",
    "    \"To Kill a Mockingbird\": \"Checked Out\",\n",
    "    \"Pride and Prejudice\": \"Available\",\n",
    "    \"Jane Eyre\": \"Checked Out\",\n",
    "    \"The Great Gatsby\": \"Available\",\n",
    "    \"War and Peace\": \"Checked Out\",\n",
    "    \"Crime and Punishment\": \"Available\",\n",
    "    \"Brave New World\": \"Available\",\n",
    "    \"A Tale of Two Cities\": \"Checked Out\",\n",
    "    \"Animal Farm\": \"Available\",\n",
    "    \"Dracula\": \"Checked Out\",\n",
    "    \"Frankenstein\": \"Available\",\n",
    "    \"The Road\": \"Available\",\n",
    "    \"The Alchemist\": \"Checked Out\"\n",
    "}\n",
    "letters_input = input(\"Enter starting letters separated by commas (e.g., T,S,M): \")\n",
    "letters = [l.strip().upper() for l in letters_input.split(\",\")]\n",
    "\n",
    "print(f\"\\nBooks starting with {', '.join(letters)} that are Available:\")\n",
    "for title, status in library.items():\n",
    "    if status == \"Available\" and any(title.upper().startswith(l) for l in letters):\n",
    "        print(f\"{title} - {status}\")\n",
    "       "
   ]
  },
  {
   "cell_type": "markdown",
   "id": "32b33fe9",
   "metadata": {},
   "source": [
    "Seen below is our original filter"
   ]
  },
  {
   "cell_type": "code",
   "execution_count": null,
   "id": "457e82ad",
   "metadata": {},
   "outputs": [],
   "source": [
    "# Finding and printing books that start with 'T'\n",
    "print(\"Books that start with 'T':\")\n",
    "for book in library.keys():  \n",
    "    if book.startswith(\"T\"):  \n",
    "        print(book)"
   ]
  },
  {
   "cell_type": "markdown",
   "id": "2c82fdb5",
   "metadata": {},
   "source": [
    "### Follow along each step to complete the challenge! Put your code below the comments"
   ]
  },
  {
   "cell_type": "code",
   "execution_count": null,
   "id": "e8e66e9c",
   "metadata": {},
   "outputs": [],
   "source": [
    "# user input a variable that will be the letter to search for\n",
    "# hint: use .upper() and .strip() to account for improper case or whitespace\n",
    "letter = input(\"Enter a letter to search for books starting with it: \").strip().upper()\n",
    "print(f\"\\nBooks starting with '{letter}':\")\n",
    "for title in library:\n",
    "    if title.upper().startswith(letter):\n",
    "        print(f\"{title} - {library[title]}\")"
   ]
  },
  {
   "cell_type": "code",
   "execution_count": null,
   "id": "d43dc487",
   "metadata": {},
   "outputs": [],
   "source": [
    "# Track and print matching books:\n",
    "# First, set a counter variable called match_count\n",
    "match_count = 0\n",
    "for title, status in library.items():\n",
    "    if title.upper().startswith(letter) and status == \"Available\":\n",
    "        print(f\"{title} - {status}\")\n",
    "        match_count += 1"
   ]
  },
  {
   "cell_type": "code",
   "execution_count": null,
   "id": "2f25ac31",
   "metadata": {},
   "outputs": [],
   "source": [
    "print(f\"\\n Books starting with {letter} that are Available: \")"
   ]
  },
  {
   "cell_type": "code",
   "execution_count": null,
   "id": "d72e5d27",
   "metadata": {},
   "outputs": [],
   "source": [
    "# write a for loop that prints all book titles starting with letter that are Available\n",
    "# hint: you are now accessing both the keys and their values, so you'll need to use library.items()\n",
    "# don't forget to increase your match_count at the end!\n",
    "match_count = 0\n",
    "\n",
    "for title, status in library.items():\n",
    "    if title.upper().startswith(letter) and status == \"Available\":\n",
    "        print(f\"{title} - {status}\")\n",
    "        match_count += 1\n",
    "\n",
    "print(f\"\\nTotal available books starting with '{letter}': {match_count}\")\n",
    "\n",
    "\n",
    "\n"
   ]
  },
  {
   "cell_type": "code",
   "execution_count": null,
   "id": "6a4b6b15",
   "metadata": {},
   "outputs": [],
   "source": [
    "# Print total matches\n",
    "print(f\"\\nTotal matches: {match_count}\")"
   ]
  },
  {
   "cell_type": "code",
   "execution_count": null,
   "id": "913d76b1",
   "metadata": {},
   "outputs": [],
   "source": [
    "# Let the user input more than one starting letter (e.g., \"T,S,M\")\n",
    "letters_input = input(\"Enter starting letters separated by commas (e.g., T,S,M): \")\n",
    "letters = [l.strip().upper() for l in letters_input.split(\",\")]\n",
    "\n",
    "print(f\"\\nBooks starting with {', '.join(letters)} that are Available:\")\n",
    "for title, status in library.items():\n",
    "    if status == \"Available\" and any(title.upper().startswith(l) for l in letters):\n",
    "        print(f\"{title} - {status}\")"
   ]
  },
  {
   "cell_type": "markdown",
   "id": "45bf0af5",
   "metadata": {},
   "source": [
    "# Great job!\n",
    "\n",
    "You’ve built a flexible book filter using a dictionary, conditionals, string methods, and a for loop. Nice work applying what you've learned.\n",
    "\n",
    "This is not required, but if you’d like to go further and make this project more advanced, try one (or all) of these ideas:\n",
    "\n",
    "- Let the user input more than one starting letter (e.g., \"T,S,M\")\n",
    "- Allow the user to choose whether to filter by \"Available\", \"Checked Out\", or show all books\n",
    "- Let users add new books to the dictionary along with their availability status\n",
    "- Give users the ability to change the status of an existing book (for example, from \"Checked Out\" to \"Available\")\n",
    "\n",
    "Try adding one feature at a time to build your skills. \n"
   ]
  }
 ],
 "metadata": {
  "kernelspec": {
   "display_name": "Python 3",
   "language": "python",
   "name": "python3"
  },
  "language_info": {
   "codemirror_mode": {
    "name": "ipython",
    "version": 3
   },
   "file_extension": ".py",
   "mimetype": "text/x-python",
   "name": "python",
   "nbconvert_exporter": "python",
   "pygments_lexer": "ipython3",
   "version": "3.13.5"
  }
 },
 "nbformat": 4,
 "nbformat_minor": 5
}
